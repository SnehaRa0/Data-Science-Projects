{
 "cells": [
  {
   "cell_type": "markdown",
   "metadata": {
    "_uuid": "0cbce5cc636ba65b81d858c596e39aa532728780"
   },
   "source": [
    "# Pre processing \n"
   ]
  },
  {
   "cell_type": "code",
   "execution_count": null,
   "metadata": {
    "_uuid": "ae448b0ed29194053d40ebd29b2fa03982468552"
   },
   "outputs": [],
   "source": [
    "%matplotlib inline\n",
    "import matplotlib.pyplot as plt\n",
    "import numpy as np\n",
    "import pydicom\n",
    "import pandas as pd\n",
    "from glob import glob\n",
    "import os\n",
    "from matplotlib.patches import Rectangle\n",
    "det_class_path = '../input/stage_2_detailed_class_info.csv'\n",
    "bbox_path = '../input/stage_2_train_labels.csv'\n",
    "dicom_dir = '../input/stage_2_train_images/'"
   ]
  },
  {
   "cell_type": "code",
   "execution_count": null,
   "metadata": {
    "_uuid": "a0a43187041d2773c035b62f68a9687811f9fcc2"
   },
   "outputs": [],
   "source": [
    "det_class_df = pd.read_csv(det_class_path)\n",
    "print(det_class_df.shape[0], 'class infos loaded')\n",
    "print(det_class_df['patientId'].value_counts().shape[0], 'patient cases')\n",
    "det_class_df.groupby('class').size().plot.bar()\n",
    "det_class_df.sample(3)"
   ]
  },
  {
   "cell_type": "code",
   "execution_count": null,
   "metadata": {
    "_uuid": "cc03f5c79bee9f015c12dc8181f7997df584fbb8"
   },
   "outputs": [],
   "source": [
    "bbox_df = pd.read_csv(bbox_path)\n",
    "print(bbox_df.shape[0], 'boxes loaded')\n",
    "print(bbox_df['patientId'].value_counts().shape[0], 'patient cases')\n",
    "bbox_df.sample(3)"
   ]
  },
  {
   "cell_type": "code",
   "execution_count": null,
   "metadata": {
    "_uuid": "ca18783acf240faea13a23fd06fba7b41f9ea71d"
   },
   "outputs": [],
   "source": [
    "# we first try a join and see that it doesn't work (we end up with too many boxes)\n",
    "comb_bbox_df = pd.merge(bbox_df, det_class_df, how='inner', on='patientId')\n",
    "print(comb_bbox_df.shape[0], 'combined cases')"
   ]
  },
  {
   "cell_type": "markdown",
   "metadata": {
    "_uuid": "15ab554a46421da28b29d7932dcad07b5146203f"
   },
   "source": [
    "## Concatenate\n",
    "We have to concatenate the two datasets and then we get class and target information on each region"
   ]
  },
  {
   "cell_type": "code",
   "execution_count": null,
   "metadata": {
    "_uuid": "91447e135cd4525c0869692ab6a6269e5bc9f30f"
   },
   "outputs": [],
   "source": [
    "comb_bbox_df = pd.concat([bbox_df, \n",
    "                        det_class_df.drop('patientId',1)], 1)\n",
    "print(comb_bbox_df.shape[0], 'combined cases')\n",
    "comb_bbox_df.sample(3)"
   ]
  },
  {
   "cell_type": "code",
   "execution_count": null,
   "metadata": {
    "_uuid": "46fe765772e24397a94295a70dbde46254c4cc8b"
   },
   "outputs": [],
   "source": [
    "image_df = pd.DataFrame({'path': glob(os.path.join(dicom_dir, '*.dcm'))})\n",
    "image_df['patientId'] = image_df['path'].map(lambda x: os.path.splitext(os.path.basename(x))[0])\n",
    "print(image_df.shape[0], 'images found')\n",
    "img_pat_ids = set(image_df['patientId'].values.tolist())\n",
    "box_pat_ids = set(comb_box_df['patientId'].values.tolist())\n",
    "# check to make sure there is no funny business\n",
    "assert img_pat_ids.union(box_pat_ids)==img_pat_ids, \"Patient IDs should be the same\""
   ]
  },
  {
   "cell_type": "code",
   "execution_count": null,
   "metadata": {
    "_uuid": "49b1259692d6246459452f80ff2d7e1d4755d28d"
   },
   "outputs": [],
   "source": [
    "image_bbox_df = pd.merge(comb_box_df, \n",
    "                         image_df, \n",
    "                         on='patientId',\n",
    "                        how='left').sort_values('patientId')\n",
    "print(image_bbox_df.shape[0], 'image bounding boxes')\n",
    "image_bbox_df.head(5)"
   ]
  },
  {
   "cell_type": "code",
   "execution_count": null,
   "metadata": {
    "_uuid": "9e42002854e4a06e6bc9ff24337b63bb42af9d2f"
   },
   "outputs": [],
   "source": [
    "image_full_df = pd.merge(image_df,\n",
    "                         image_meta_df,\n",
    "                         on='path')\n"
   ]
  },
  {
   "cell_type": "markdown",
   "metadata": {
    "_uuid": "96af4bb8a61df3dd753e6b103434b996f3884c13"
   },
   "source": [
    "## Create Sample Data Set\n",
    "We create a sample dataset covering different cases, and number of boxes"
   ]
  },
  {
   "cell_type": "code",
   "execution_count": null,
   "metadata": {
    "_uuid": "5aa2c0ab7e7970ed26de93d66eb52cd4b08e57b6"
   },
   "outputs": [],
   "source": [
    "sample_df = image_bbox_df.\\\n",
    "    groupby(['Target','class', 'boxes']).\\\n",
    "    apply(lambda x: x[x['patientId']==x.sample(1)['patientId'].values[0]]).\\\n",
    "    reset_index(drop=True)\n",
    "sample_df"
   ]
  },
  {
   "cell_type": "markdown",
   "metadata": {
    "_uuid": "828c1986e2f5527cce11e7d114e166454caef64e"
   },
   "source": [
    "### Save the preprocessed results\n",
    "We can use the preprocessed results with the appropriate DICOM tags to make model training step easier"
   ]
  },
  {
   "cell_type": "code",
   "execution_count": null,
   "metadata": {
    "_uuid": "497116383a76bd6285edf70c2604924f6e5e1687"
   },
   "outputs": [],
   "source": [
    "image_bbox_df.to_csv('image_bbox_full.csv', index=False)"
   ]
  }
 ],
 "metadata": {
  "kernelspec": {
   "display_name": "Python 3",
   "language": "python",
   "name": "python3"
  },
  "language_info": {
   "codemirror_mode": {
    "name": "ipython",
    "version": 3
   },
   "file_extension": ".py",
   "mimetype": "text/x-python",
   "name": "python",
   "nbconvert_exporter": "python",
   "pygments_lexer": "ipython3",
   "version": "3.7.6"
  }
 },
 "nbformat": 4,
 "nbformat_minor": 1
}
