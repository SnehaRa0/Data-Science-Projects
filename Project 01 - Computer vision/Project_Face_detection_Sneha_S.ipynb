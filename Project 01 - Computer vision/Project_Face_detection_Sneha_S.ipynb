{
 "cells": [
  {
   "cell_type": "markdown",
   "metadata": {
    "colab_type": "text",
    "id": "VvWl3ebqzCc1"
   },
   "source": [
    "# Instructions\n",
    "- Some parts of the code are already done for you\n",
    "- You need to execute all the cells\n",
    "- You need to add the code where ever you see `\"#### Add your code here ####\"`\n",
    "- Marks are mentioned along with the cells"
   ]
  },
  {
   "cell_type": "markdown",
   "metadata": {
    "colab_type": "text",
    "id": "NgR0j5310qqC"
   },
   "source": [
    "# Face detection\n",
    "Task is to predict the boundaries(mask) around the face in a given image."
   ]
  },
  {
   "cell_type": "markdown",
   "metadata": {
    "colab_type": "text",
    "id": "Aa0jyJzw091I"
   },
   "source": [
    "## Dataset\n",
    "Faces in images marked with bounding boxes. Have around 500 images with around 1100 faces manually tagged via bounding box."
   ]
  },
  {
   "cell_type": "markdown",
   "metadata": {
    "colab_type": "text",
    "id": "CjRTlPkp1LC2"
   },
   "source": [
    "### Mount Google drive if you are using google colab\n",
    "- We recommend using Google Colab as you can face memory issues and longer runtimes while running on local"
   ]
  },
  {
   "cell_type": "code",
   "execution_count": 0,
   "metadata": {
    "colab": {
     "base_uri": "https://localhost:8080/",
     "height": 122
    },
    "colab_type": "code",
    "id": "sBWMoTJ9cf3Z",
    "outputId": "6b83082d-1f49-4818-c87f-f46d13b5ba8b"
   },
   "outputs": [
    {
     "name": "stdout",
     "output_type": "stream",
     "text": [
      "Go to this URL in a browser: https://accounts.google.com/o/oauth2/auth?client_id=947318989803-6bn6qk8qdgf4n4g3pfee6491hc0brc4i.apps.googleusercontent.com&redirect_uri=urn%3aietf%3awg%3aoauth%3a2.0%3aoob&response_type=code&scope=email%20https%3a%2f%2fwww.googleapis.com%2fauth%2fdocs.test%20https%3a%2f%2fwww.googleapis.com%2fauth%2fdrive%20https%3a%2f%2fwww.googleapis.com%2fauth%2fdrive.photos.readonly%20https%3a%2f%2fwww.googleapis.com%2fauth%2fpeopleapi.readonly\n",
      "\n",
      "Enter your authorization code:\n",
      "··········\n",
      "Mounted at /content/drive\n"
     ]
    }
   ],
   "source": [
    "from google.colab import drive\n",
    "drive.mount('/content/drive')"
   ]
  },
  {
   "cell_type": "markdown",
   "metadata": {
    "colab_type": "text",
    "id": "sO9mgMmp13sI"
   },
   "source": [
    "### Change current working directory to project folder (1 mark)"
   ]
  },
  {
   "cell_type": "code",
   "execution_count": 0,
   "metadata": {
    "colab": {},
    "colab_type": "code",
    "id": "TddMnf4D1-59"
   },
   "outputs": [],
   "source": [
    "import os\n",
    "#### Add your code here ####\n",
    "# The path to the input data file has been directly fed in the next step"
   ]
  },
  {
   "cell_type": "markdown",
   "metadata": {
    "colab_type": "text",
    "id": "3srplE-FEpKa"
   },
   "source": [
    "### Load the \"images.npy\" file (4 marks)\n",
    "- This file contains images with details of bounding boxes"
   ]
  },
  {
   "cell_type": "code",
   "execution_count": 0,
   "metadata": {
    "colab": {
     "base_uri": "https://localhost:8080/",
     "height": 34
    },
    "colab_type": "code",
    "id": "e0h_9fugFrih",
    "outputId": "9b6336bf-ed72-42d5-9e36-df2a1ad842c5"
   },
   "outputs": [
    {
     "name": "stdout",
     "output_type": "stream",
     "text": [
      "drive  sample_data\n"
     ]
    }
   ],
   "source": [
    "!ls"
   ]
  },
  {
   "cell_type": "code",
   "execution_count": 0,
   "metadata": {
    "colab": {},
    "colab_type": "code",
    "id": "MqFE_tZDf0sM"
   },
   "outputs": [],
   "source": [
    "import numpy as np\n",
    "#### Add your code here ####\n",
    "data = np.load('/content/drive/My Drive/Colab Notebooks/Project - Computer Vision/Data_Subset/images.npy', allow_pickle = True)"
   ]
  },
  {
   "cell_type": "markdown",
   "metadata": {
    "colab_type": "text",
    "id": "_SMP8zliFT7R"
   },
   "source": [
    "### Check one sample from the loaded \"images.npy\" file  (4 marks)"
   ]
  },
  {
   "cell_type": "code",
   "execution_count": 0,
   "metadata": {
    "colab": {
     "base_uri": "https://localhost:8080/",
     "height": 904
    },
    "colab_type": "code",
    "id": "NoqNvPK-iXqG",
    "outputId": "b1c8799b-0852-4172-8470-cc4e8f2b60f3"
   },
   "outputs": [
    {
     "name": "stdout",
     "output_type": "stream",
     "text": [
      "(409, 2)\n",
      "[array([[[2, 2, 2],\n",
      "        [2, 2, 2],\n",
      "        [2, 2, 2],\n",
      "        ...,\n",
      "        [0, 0, 0],\n",
      "        [0, 0, 0],\n",
      "        [0, 0, 0]],\n",
      "\n",
      "       [[2, 2, 2],\n",
      "        [2, 2, 2],\n",
      "        [2, 2, 2],\n",
      "        ...,\n",
      "        [0, 0, 0],\n",
      "        [0, 0, 0],\n",
      "        [0, 0, 0]],\n",
      "\n",
      "       [[2, 2, 2],\n",
      "        [2, 2, 2],\n",
      "        [2, 2, 2],\n",
      "        ...,\n",
      "        [0, 0, 0],\n",
      "        [0, 0, 0],\n",
      "        [0, 0, 0]],\n",
      "\n",
      "       ...,\n",
      "\n",
      "       [[0, 0, 0],\n",
      "        [0, 0, 0],\n",
      "        [0, 0, 0],\n",
      "        ...,\n",
      "        [5, 5, 5],\n",
      "        [6, 6, 6],\n",
      "        [6, 6, 6]],\n",
      "\n",
      "       [[0, 0, 0],\n",
      "        [0, 0, 0],\n",
      "        [0, 0, 0],\n",
      "        ...,\n",
      "        [5, 5, 5],\n",
      "        [6, 6, 6],\n",
      "        [6, 6, 6]],\n",
      "\n",
      "       [[0, 0, 0],\n",
      "        [0, 0, 0],\n",
      "        [0, 0, 0],\n",
      "        ...,\n",
      "        [5, 5, 5],\n",
      "        [5, 5, 5],\n",
      "        [5, 5, 5]]], dtype=uint8)\n",
      " list([{'label': ['Face'], 'notes': '', 'points': [{'x': 0.48, 'y': 0.10385756676557864}, {'x': 0.7716666666666666, 'y': 0.6795252225519288}], 'imageWidth': 600, 'imageHeight': 337}])]\n"
     ]
    }
   ],
   "source": [
    "#### Add your code here ####\n",
    "print(data.shape)\n",
    "print(data[10])"
   ]
  },
  {
   "cell_type": "markdown",
   "metadata": {
    "colab_type": "text",
    "id": "5WeEKuSu3mSd"
   },
   "source": [
    "### I have printed one row of the data in images.npy file. I could infer the following from the output.\n",
    " 1. Image size is 600 * 337 with 3 channels\n",
    " 2. The pixel values are saved in one column as an array\n",
    " 3. The bounding box values and label are saved in the second column.\n",
    " 4. For the row printed, there is a face in the picture and the bounding box co-ordinates and the label are given in the 2nd column.\n"
   ]
  },
  {
   "cell_type": "markdown",
   "metadata": {
    "colab_type": "text",
    "id": "m94G4p3CE5Cj"
   },
   "source": [
    "### Set image dimensions   (2 marks)\n",
    "- Initialize image height, image width with value: 224 "
   ]
  },
  {
   "cell_type": "code",
   "execution_count": 0,
   "metadata": {
    "colab": {},
    "colab_type": "code",
    "id": "kuZmtOASevDo"
   },
   "outputs": [],
   "source": [
    "#### Add your code here ####\n",
    "IMAGE_WIDTH = 224\n",
    "IMAGE_HEIGHT = 224"
   ]
  },
  {
   "cell_type": "markdown",
   "metadata": {
    "colab_type": "text",
    "id": "wY6FEsCjG47s"
   },
   "source": [
    "### Create features and labels\n",
    "- Here feature is the image\n",
    "- The label is the mask\n",
    "- Images will be stored in \"X_train\" array\n",
    "- Masks will be stored in \"masks\" array"
   ]
  },
  {
   "cell_type": "code",
   "execution_count": 0,
   "metadata": {
    "colab": {},
    "colab_type": "code",
    "id": "XjCT9EVTgAvr"
   },
   "outputs": [],
   "source": [
    "import cv2\n",
    "from tensorflow.keras.applications.mobilenet import preprocess_input\n",
    "\n",
    "masks = np.zeros((int(data.shape[0]), IMAGE_HEIGHT, IMAGE_WIDTH))\n",
    "X_train = np.zeros((int(data.shape[0]), IMAGE_HEIGHT, IMAGE_WIDTH, 3))\n",
    "for index in range(data.shape[0]):\n",
    "    img = data[index][0]\n",
    "    img = cv2.resize(img, dsize=(IMAGE_HEIGHT, IMAGE_WIDTH), interpolation=cv2.INTER_CUBIC)\n",
    "    try:\n",
    "      img = img[:, :, :3]\n",
    "    except:\n",
    "      continue\n",
    "    X_train[index] = preprocess_input(np.array(img, dtype=np.float32))\n",
    "    for i in data[index][1]:\n",
    "        x1 = int(i[\"points\"][0]['x'] * IMAGE_WIDTH)\n",
    "        x2 = int(i[\"points\"][1]['x'] * IMAGE_WIDTH)\n",
    "        y1 = int(i[\"points\"][0]['y'] * IMAGE_HEIGHT)\n",
    "        y2 = int(i[\"points\"][1]['y'] * IMAGE_HEIGHT)\n",
    "        masks[index][y1:y2, x1:x2] = 1"
   ]
  },
  {
   "cell_type": "markdown",
   "metadata": {
    "colab_type": "text",
    "id": "N3AYbP79bFtJ"
   },
   "source": [
    "### Print the shape of X_train and mask array  (1 mark)"
   ]
  },
  {
   "cell_type": "code",
   "execution_count": 0,
   "metadata": {
    "colab": {
     "base_uri": "https://localhost:8080/",
     "height": 34
    },
    "colab_type": "code",
    "id": "3PIRaEdWIjDa",
    "outputId": "4ad11454-ec83-48d5-ba88-ab9699f55ae2"
   },
   "outputs": [
    {
     "name": "stdout",
     "output_type": "stream",
     "text": [
      "(409, 224, 224, 3)\n"
     ]
    }
   ],
   "source": [
    "#### Add your code here ####\n",
    "print(X_train.shape)"
   ]
  },
  {
   "cell_type": "code",
   "execution_count": 0,
   "metadata": {
    "colab": {
     "base_uri": "https://localhost:8080/",
     "height": 34
    },
    "colab_type": "code",
    "id": "Gw6uH5DxgI_r",
    "outputId": "75d77d38-76e8-4ad6-c78f-5ab958450859"
   },
   "outputs": [
    {
     "name": "stdout",
     "output_type": "stream",
     "text": [
      "(409, 224, 224)\n"
     ]
    }
   ],
   "source": [
    "#### Add your code here ####\n",
    "print(masks.shape)"
   ]
  },
  {
   "cell_type": "markdown",
   "metadata": {
    "colab_type": "text",
    "id": "R4wgkWq1bk5F"
   },
   "source": [
    "### Print a sample image and image array"
   ]
  },
  {
   "cell_type": "code",
   "execution_count": 0,
   "metadata": {
    "colab": {
     "base_uri": "https://localhost:8080/",
     "height": 1000
    },
    "colab_type": "code",
    "id": "qfRZjQufj0N9",
    "outputId": "7204b95b-774a-42f1-bed3-71c27aad991c"
   },
   "outputs": [
    {
     "name": "stderr",
     "output_type": "stream",
     "text": [
      "Clipping input data to the valid range for imshow with RGB data ([0..1] for floats or [0..255] for integers).\n"
     ]
    },
    {
     "name": "stdout",
     "output_type": "stream",
     "text": [
      "[[[-0.98431373 -0.98431373 -0.98431373]\n",
      "  [-0.98431373 -0.98431373 -0.98431373]\n",
      "  [-0.98431373 -0.98431373 -0.98431373]\n",
      "  ...\n",
      "  [-1.         -1.         -1.        ]\n",
      "  [-1.         -1.         -1.        ]\n",
      "  [-1.         -1.         -1.        ]]\n",
      "\n",
      " [[-0.98431373 -0.98431373 -0.98431373]\n",
      "  [-0.98431373 -0.98431373 -0.98431373]\n",
      "  [-0.98431373 -0.98431373 -0.98431373]\n",
      "  ...\n",
      "  [-1.         -1.         -1.        ]\n",
      "  [-1.         -1.         -1.        ]\n",
      "  [-1.         -1.         -1.        ]]\n",
      "\n",
      " [[-0.98431373 -0.98431373 -0.98431373]\n",
      "  [-0.98431373 -0.98431373 -0.98431373]\n",
      "  [-0.98431373 -0.98431373 -0.98431373]\n",
      "  ...\n",
      "  [-1.         -1.         -1.        ]\n",
      "  [-1.         -1.         -1.        ]\n",
      "  [-1.         -1.         -1.        ]]\n",
      "\n",
      " ...\n",
      "\n",
      " [[-1.         -1.         -1.        ]\n",
      "  [-1.         -1.         -1.        ]\n",
      "  [-1.         -1.         -1.        ]\n",
      "  ...\n",
      "  [-0.96862745 -0.96862745 -0.96862745]\n",
      "  [-0.96078432 -0.96078432 -0.96078432]\n",
      "  [-0.96078432 -0.96078432 -0.96078432]]\n",
      "\n",
      " [[-1.         -1.         -1.        ]\n",
      "  [-1.         -1.         -1.        ]\n",
      "  [-1.         -1.         -1.        ]\n",
      "  ...\n",
      "  [-0.96862745 -0.96862745 -0.96862745]\n",
      "  [-0.96078432 -0.96078432 -0.96078432]\n",
      "  [-0.95294118 -0.95294118 -0.95294118]]\n",
      "\n",
      " [[-1.         -1.         -1.        ]\n",
      "  [-1.         -1.         -1.        ]\n",
      "  [-1.         -1.         -1.        ]\n",
      "  ...\n",
      "  [-0.97647059 -0.97647059 -0.97647059]\n",
      "  [-0.96862745 -0.96862745 -0.96862745]\n",
      "  [-0.96078432 -0.96078432 -0.96078432]]]\n"
     ]
    },
    {
     "data": {
      "text/plain": [
       "<matplotlib.image.AxesImage at 0x7fd20078fc18>"
      ]
     },
     "execution_count": 11,
     "metadata": {
      "tags": []
     },
     "output_type": "execute_result"
    },
    {
     "data": {
      "image/png": "[encoded data removed]",
      "text/plain": [
       "<Figure size 432x288 with 1 Axes>"
      ]
     },
     "metadata": {
      "tags": []
     },
     "output_type": "display_data"
    }
   ],
   "source": [
    "from matplotlib import pyplot\n",
    "n = 10\n",
    "print(X_train[n])\n",
    "pyplot.imshow(X_train[n])"
   ]
  },
  {
   "cell_type": "code",
   "execution_count": 0,
   "metadata": {
    "colab": {
     "base_uri": "https://localhost:8080/",
     "height": 286
    },
    "colab_type": "code",
    "id": "983gGKcwlSe8",
    "outputId": "574211c9-6c31-4b21-a8ec-afc38ec4fd5a"
   },
   "outputs": [
    {
     "data": {
      "text/plain": [
       "<matplotlib.image.AxesImage at 0x7fd2002dcdd8>"
      ]
     },
     "execution_count": 12,
     "metadata": {
      "tags": []
     },
     "output_type": "execute_result"
    },
    {
     "data": {
      "image/png": "[encoded data removed]",
      "text/plain": [
       "<Figure size 432x288 with 1 Axes>"
      ]
     },
     "metadata": {
      "tags": []
     },
     "output_type": "display_data"
    }
   ],
   "source": [
    "pyplot.imshow(masks[n])"
   ]
  },
  {
   "cell_type": "markdown",
   "metadata": {
    "colab_type": "text",
    "id": "Z0Qa1UOue9TE"
   },
   "source": [
    "## Create the model (10 marks)\n",
    "- Add MobileNet as model with below parameter values\n",
    "  - input_shape: IMAGE_HEIGHT, IMAGE_WIDTH, 3\n",
    "  - include_top: False\n",
    "  - alpha: 1.0\n",
    "  - weights: \"imagenet\"\n",
    "- Add UNET architecture layers\n",
    "  - This is the trickiest part of the project, you need to research and implement it correctly"
   ]
  },
  {
   "cell_type": "code",
   "execution_count": 0,
   "metadata": {
    "colab": {},
    "colab_type": "code",
    "id": "BTVYOvANrUVx"
   },
   "outputs": [],
   "source": [
    "from tensorflow.keras.applications.mobilenet import MobileNet\n",
    "from tensorflow.keras.layers import Concatenate, UpSampling2D, Conv2D, Reshape\n",
    "from tensorflow.keras.models import Model\n",
    "\n",
    "\n",
    "def create_model(trainable=True):\n",
    "    #### Add your code here ####\n",
    "    model = MobileNet(input_shape = (224,224,3), alpha = 1.0, include_top = False, weights = \"imagenet\") \n",
    "    for layer in model.layers:\n",
    "        layer.trainable = trainable\n",
    "\n",
    "    # Add all the UNET layers here\n",
    "    #### Add your code here ####\n",
    "\n",
    "    Lay1 = model.get_layer('conv_pw_1_relu').output\n",
    "    Lay2 = model.get_layer('conv_pw_3_relu').output\n",
    "    Lay3 = model.get_layer('conv_pw_5_relu').output\n",
    "    Lay4 = model.get_layer('conv_pw_11_relu').output\n",
    "    Lay5 = model.get_layer('conv_pw_13_relu').output\n",
    "\n",
    "    x = Concatenate()([UpSampling2D()(Lay5), Lay4])\n",
    "    x = Concatenate()([UpSampling2D()(x), Lay3])\n",
    "    x = Concatenate()([UpSampling2D()(x), Lay2])\n",
    "    x = Concatenate()([UpSampling2D()(x), Lay1])\n",
    "    x = Concatenate()([UpSampling2D()(x), model.input])\n",
    "\n",
    "    x = Conv2D(1, kernel_size = 1, activation = 'sigmoid')(x)\n",
    "    x = Reshape((224,224))(x)\n",
    "\n",
    "    #### Add your code here ####\n",
    "    return Model(inputs = model.input, outputs = x)"
   ]
  },
  {
   "cell_type": "markdown",
   "metadata": {
    "colab_type": "text",
    "id": "_snZ9o0ZBAiv"
   },
   "source": [
    "### Call the create_model function"
   ]
  },
  {
   "cell_type": "code",
   "execution_count": 0,
   "metadata": {
    "colab": {
     "base_uri": "https://localhost:8080/",
     "height": 1000
    },
    "colab_type": "code",
    "id": "9TfSSP51uPoO",
    "outputId": "b021e59d-7d1e-42f1-c6a3-0735395f4582"
   },
   "outputs": [
    {
     "name": "stdout",
     "output_type": "stream",
     "text": [
      "WARNING:tensorflow:From /usr/local/lib/python3.6/dist-packages/tensorflow_core/python/ops/resource_variable_ops.py:1630: calling BaseResourceVariable.__init__ (from tensorflow.python.ops.resource_variable_ops) with constraint is deprecated and will be removed in a future version.\n",
      "Instructions for updating:\n",
      "If using Keras pass *_constraint arguments to layers.\n",
      "Downloading data from https://github.com/fchollet/deep-learning-models/releases/download/v0.6/mobilenet_1_0_224_tf_no_top.h5\n",
      "17227776/17225924 [==============================] - 1s 0us/step\n",
      "Model: \"model\"\n",
      "__________________________________________________________________________________________________\n",
      "Layer (type)                    Output Shape         Param #     Connected to                     \n",
      "==================================================================================================\n",
      "input_1 (InputLayer)            [(None, 224, 224, 3) 0                                            \n",
      "__________________________________________________________________________________________________\n",
      "conv1_pad (ZeroPadding2D)       (None, 225, 225, 3)  0           input_1[0][0]                    \n",
      "__________________________________________________________________________________________________\n",
      "conv1 (Conv2D)                  (None, 112, 112, 32) 864         conv1_pad[0][0]                  \n",
      "__________________________________________________________________________________________________\n",
      "conv1_bn (BatchNormalization)   (None, 112, 112, 32) 128         conv1[0][0]                      \n",
      "__________________________________________________________________________________________________\n",
      "conv1_relu (ReLU)               (None, 112, 112, 32) 0           conv1_bn[0][0]                   \n",
      "__________________________________________________________________________________________________\n",
      "conv_dw_1 (DepthwiseConv2D)     (None, 112, 112, 32) 288         conv1_relu[0][0]                 \n",
      "__________________________________________________________________________________________________\n",
      "conv_dw_1_bn (BatchNormalizatio (None, 112, 112, 32) 128         conv_dw_1[0][0]                  \n",
      "__________________________________________________________________________________________________\n",
      "conv_dw_1_relu (ReLU)           (None, 112, 112, 32) 0           conv_dw_1_bn[0][0]               \n",
      "__________________________________________________________________________________________________\n",
      "conv_pw_1 (Conv2D)              (None, 112, 112, 64) 2048        conv_dw_1_relu[0][0]             \n",
      "__________________________________________________________________________________________________\n",
      "conv_pw_1_bn (BatchNormalizatio (None, 112, 112, 64) 256         conv_pw_1[0][0]                  \n",
      "__________________________________________________________________________________________________\n",
      "conv_pw_1_relu (ReLU)           (None, 112, 112, 64) 0           conv_pw_1_bn[0][0]               \n",
      "__________________________________________________________________________________________________\n",
      "conv_pad_2 (ZeroPadding2D)      (None, 113, 113, 64) 0           conv_pw_1_relu[0][0]             \n",
      "__________________________________________________________________________________________________\n",
      "conv_dw_2 (DepthwiseConv2D)     (None, 56, 56, 64)   576         conv_pad_2[0][0]                 \n",
      "__________________________________________________________________________________________________\n",
      "conv_dw_2_bn (BatchNormalizatio (None, 56, 56, 64)   256         conv_dw_2[0][0]                  \n",
      "__________________________________________________________________________________________________\n",
      "conv_dw_2_relu (ReLU)           (None, 56, 56, 64)   0           conv_dw_2_bn[0][0]               \n",
      "__________________________________________________________________________________________________\n",
      "conv_pw_2 (Conv2D)              (None, 56, 56, 128)  8192        conv_dw_2_relu[0][0]             \n",
      "__________________________________________________________________________________________________\n",
      "conv_pw_2_bn (BatchNormalizatio (None, 56, 56, 128)  512         conv_pw_2[0][0]                  \n",
      "__________________________________________________________________________________________________\n",
      "conv_pw_2_relu (ReLU)           (None, 56, 56, 128)  0           conv_pw_2_bn[0][0]               \n",
      "__________________________________________________________________________________________________\n",
      "conv_dw_3 (DepthwiseConv2D)     (None, 56, 56, 128)  1152        conv_pw_2_relu[0][0]             \n",
      "__________________________________________________________________________________________________\n",
      "conv_dw_3_bn (BatchNormalizatio (None, 56, 56, 128)  512         conv_dw_3[0][0]                  \n",
      "__________________________________________________________________________________________________\n",
      "conv_dw_3_relu (ReLU)           (None, 56, 56, 128)  0           conv_dw_3_bn[0][0]               \n",
      "__________________________________________________________________________________________________\n",
      "conv_pw_3 (Conv2D)              (None, 56, 56, 128)  16384       conv_dw_3_relu[0][0]             \n",
      "__________________________________________________________________________________________________\n",
      "conv_pw_3_bn (BatchNormalizatio (None, 56, 56, 128)  512         conv_pw_3[0][0]                  \n",
      "__________________________________________________________________________________________________\n",
      "conv_pw_3_relu (ReLU)           (None, 56, 56, 128)  0           conv_pw_3_bn[0][0]               \n",
      "__________________________________________________________________________________________________\n",
      "conv_pad_4 (ZeroPadding2D)      (None, 57, 57, 128)  0           conv_pw_3_relu[0][0]             \n",
      "__________________________________________________________________________________________________\n",
      "conv_dw_4 (DepthwiseConv2D)     (None, 28, 28, 128)  1152        conv_pad_4[0][0]                 \n",
      "__________________________________________________________________________________________________\n",
      "conv_dw_4_bn (BatchNormalizatio (None, 28, 28, 128)  512         conv_dw_4[0][0]                  \n",
      "__________________________________________________________________________________________________\n",
      "conv_dw_4_relu (ReLU)           (None, 28, 28, 128)  0           conv_dw_4_bn[0][0]               \n",
      "__________________________________________________________________________________________________\n",
      "conv_pw_4 (Conv2D)              (None, 28, 28, 256)  32768       conv_dw_4_relu[0][0]             \n",
      "__________________________________________________________________________________________________\n",
      "conv_pw_4_bn (BatchNormalizatio (None, 28, 28, 256)  1024        conv_pw_4[0][0]                  \n",
      "__________________________________________________________________________________________________\n",
      "conv_pw_4_relu (ReLU)           (None, 28, 28, 256)  0           conv_pw_4_bn[0][0]               \n",
      "__________________________________________________________________________________________________\n",
      "conv_dw_5 (DepthwiseConv2D)     (None, 28, 28, 256)  2304        conv_pw_4_relu[0][0]             \n",
      "__________________________________________________________________________________________________\n",
      "conv_dw_5_bn (BatchNormalizatio (None, 28, 28, 256)  1024        conv_dw_5[0][0]                  \n",
      "__________________________________________________________________________________________________\n",
      "conv_dw_5_relu (ReLU)           (None, 28, 28, 256)  0           conv_dw_5_bn[0][0]               \n",
      "__________________________________________________________________________________________________\n",
      "conv_pw_5 (Conv2D)              (None, 28, 28, 256)  65536       conv_dw_5_relu[0][0]             \n",
      "__________________________________________________________________________________________________\n",
      "conv_pw_5_bn (BatchNormalizatio (None, 28, 28, 256)  1024        conv_pw_5[0][0]                  \n",
      "__________________________________________________________________________________________________\n",
      "conv_pw_5_relu (ReLU)           (None, 28, 28, 256)  0           conv_pw_5_bn[0][0]               \n",
      "__________________________________________________________________________________________________\n",
      "conv_pad_6 (ZeroPadding2D)      (None, 29, 29, 256)  0           conv_pw_5_relu[0][0]             \n",
      "__________________________________________________________________________________________________\n",
      "conv_dw_6 (DepthwiseConv2D)     (None, 14, 14, 256)  2304        conv_pad_6[0][0]                 \n",
      "__________________________________________________________________________________________________\n",
      "conv_dw_6_bn (BatchNormalizatio (None, 14, 14, 256)  1024        conv_dw_6[0][0]                  \n",
      "__________________________________________________________________________________________________\n",
      "conv_dw_6_relu (ReLU)           (None, 14, 14, 256)  0           conv_dw_6_bn[0][0]               \n",
      "__________________________________________________________________________________________________\n",
      "conv_pw_6 (Conv2D)              (None, 14, 14, 512)  131072      conv_dw_6_relu[0][0]             \n",
      "__________________________________________________________________________________________________\n",
      "conv_pw_6_bn (BatchNormalizatio (None, 14, 14, 512)  2048        conv_pw_6[0][0]                  \n",
      "__________________________________________________________________________________________________\n",
      "conv_pw_6_relu (ReLU)           (None, 14, 14, 512)  0           conv_pw_6_bn[0][0]               \n",
      "__________________________________________________________________________________________________\n",
      "conv_dw_7 (DepthwiseConv2D)     (None, 14, 14, 512)  4608        conv_pw_6_relu[0][0]             \n",
      "__________________________________________________________________________________________________\n",
      "conv_dw_7_bn (BatchNormalizatio (None, 14, 14, 512)  2048        conv_dw_7[0][0]                  \n",
      "__________________________________________________________________________________________________\n",
      "conv_dw_7_relu (ReLU)           (None, 14, 14, 512)  0           conv_dw_7_bn[0][0]               \n",
      "__________________________________________________________________________________________________\n",
      "conv_pw_7 (Conv2D)              (None, 14, 14, 512)  262144      conv_dw_7_relu[0][0]             \n",
      "__________________________________________________________________________________________________\n",
      "conv_pw_7_bn (BatchNormalizatio (None, 14, 14, 512)  2048        conv_pw_7[0][0]                  \n",
      "__________________________________________________________________________________________________\n",
      "conv_pw_7_relu (ReLU)           (None, 14, 14, 512)  0           conv_pw_7_bn[0][0]               \n",
      "__________________________________________________________________________________________________\n",
      "conv_dw_8 (DepthwiseConv2D)     (None, 14, 14, 512)  4608        conv_pw_7_relu[0][0]             \n",
      "__________________________________________________________________________________________________\n",
      "conv_dw_8_bn (BatchNormalizatio (None, 14, 14, 512)  2048        conv_dw_8[0][0]                  \n",
      "__________________________________________________________________________________________________\n",
      "conv_dw_8_relu (ReLU)           (None, 14, 14, 512)  0           conv_dw_8_bn[0][0]               \n",
      "__________________________________________________________________________________________________\n",
      "conv_pw_8 (Conv2D)              (None, 14, 14, 512)  262144      conv_dw_8_relu[0][0]             \n",
      "__________________________________________________________________________________________________\n",
      "conv_pw_8_bn (BatchNormalizatio (None, 14, 14, 512)  2048        conv_pw_8[0][0]                  \n",
      "__________________________________________________________________________________________________\n",
      "conv_pw_8_relu (ReLU)           (None, 14, 14, 512)  0           conv_pw_8_bn[0][0]               \n",
      "__________________________________________________________________________________________________\n",
      "conv_dw_9 (DepthwiseConv2D)     (None, 14, 14, 512)  4608        conv_pw_8_relu[0][0]             \n",
      "__________________________________________________________________________________________________\n",
      "conv_dw_9_bn (BatchNormalizatio (None, 14, 14, 512)  2048        conv_dw_9[0][0]                  \n",
      "__________________________________________________________________________________________________\n",
      "conv_dw_9_relu (ReLU)           (None, 14, 14, 512)  0           conv_dw_9_bn[0][0]               \n",
      "__________________________________________________________________________________________________\n",
      "conv_pw_9 (Conv2D)              (None, 14, 14, 512)  262144      conv_dw_9_relu[0][0]             \n",
      "__________________________________________________________________________________________________\n",
      "conv_pw_9_bn (BatchNormalizatio (None, 14, 14, 512)  2048        conv_pw_9[0][0]                  \n",
      "__________________________________________________________________________________________________\n",
      "conv_pw_9_relu (ReLU)           (None, 14, 14, 512)  0           conv_pw_9_bn[0][0]               \n",
      "__________________________________________________________________________________________________\n",
      "conv_dw_10 (DepthwiseConv2D)    (None, 14, 14, 512)  4608        conv_pw_9_relu[0][0]             \n",
      "__________________________________________________________________________________________________\n",
      "conv_dw_10_bn (BatchNormalizati (None, 14, 14, 512)  2048        conv_dw_10[0][0]                 \n",
      "__________________________________________________________________________________________________\n",
      "conv_dw_10_relu (ReLU)          (None, 14, 14, 512)  0           conv_dw_10_bn[0][0]              \n",
      "__________________________________________________________________________________________________\n",
      "conv_pw_10 (Conv2D)             (None, 14, 14, 512)  262144      conv_dw_10_relu[0][0]            \n",
      "__________________________________________________________________________________________________\n",
      "conv_pw_10_bn (BatchNormalizati (None, 14, 14, 512)  2048        conv_pw_10[0][0]                 \n",
      "__________________________________________________________________________________________________\n",
      "conv_pw_10_relu (ReLU)          (None, 14, 14, 512)  0           conv_pw_10_bn[0][0]              \n",
      "__________________________________________________________________________________________________\n",
      "conv_dw_11 (DepthwiseConv2D)    (None, 14, 14, 512)  4608        conv_pw_10_relu[0][0]            \n",
      "__________________________________________________________________________________________________\n",
      "conv_dw_11_bn (BatchNormalizati (None, 14, 14, 512)  2048        conv_dw_11[0][0]                 \n",
      "__________________________________________________________________________________________________\n",
      "conv_dw_11_relu (ReLU)          (None, 14, 14, 512)  0           conv_dw_11_bn[0][0]              \n",
      "__________________________________________________________________________________________________\n",
      "conv_pw_11 (Conv2D)             (None, 14, 14, 512)  262144      conv_dw_11_relu[0][0]            \n",
      "__________________________________________________________________________________________________\n",
      "conv_pw_11_bn (BatchNormalizati (None, 14, 14, 512)  2048        conv_pw_11[0][0]                 \n",
      "__________________________________________________________________________________________________\n",
      "conv_pw_11_relu (ReLU)          (None, 14, 14, 512)  0           conv_pw_11_bn[0][0]              \n",
      "__________________________________________________________________________________________________\n",
      "conv_pad_12 (ZeroPadding2D)     (None, 15, 15, 512)  0           conv_pw_11_relu[0][0]            \n",
      "__________________________________________________________________________________________________\n",
      "conv_dw_12 (DepthwiseConv2D)    (None, 7, 7, 512)    4608        conv_pad_12[0][0]                \n",
      "__________________________________________________________________________________________________\n",
      "conv_dw_12_bn (BatchNormalizati (None, 7, 7, 512)    2048        conv_dw_12[0][0]                 \n",
      "__________________________________________________________________________________________________\n",
      "conv_dw_12_relu (ReLU)          (None, 7, 7, 512)    0           conv_dw_12_bn[0][0]              \n",
      "__________________________________________________________________________________________________\n",
      "conv_pw_12 (Conv2D)             (None, 7, 7, 1024)   524288      conv_dw_12_relu[0][0]            \n",
      "__________________________________________________________________________________________________\n",
      "conv_pw_12_bn (BatchNormalizati (None, 7, 7, 1024)   4096        conv_pw_12[0][0]                 \n",
      "__________________________________________________________________________________________________\n",
      "conv_pw_12_relu (ReLU)          (None, 7, 7, 1024)   0           conv_pw_12_bn[0][0]              \n",
      "__________________________________________________________________________________________________\n",
      "conv_dw_13 (DepthwiseConv2D)    (None, 7, 7, 1024)   9216        conv_pw_12_relu[0][0]            \n",
      "__________________________________________________________________________________________________\n",
      "conv_dw_13_bn (BatchNormalizati (None, 7, 7, 1024)   4096        conv_dw_13[0][0]                 \n",
      "__________________________________________________________________________________________________\n",
      "conv_dw_13_relu (ReLU)          (None, 7, 7, 1024)   0           conv_dw_13_bn[0][0]              \n",
      "__________________________________________________________________________________________________\n",
      "conv_pw_13 (Conv2D)             (None, 7, 7, 1024)   1048576     conv_dw_13_relu[0][0]            \n",
      "__________________________________________________________________________________________________\n",
      "conv_pw_13_bn (BatchNormalizati (None, 7, 7, 1024)   4096        conv_pw_13[0][0]                 \n",
      "__________________________________________________________________________________________________\n",
      "conv_pw_13_relu (ReLU)          (None, 7, 7, 1024)   0           conv_pw_13_bn[0][0]              \n",
      "__________________________________________________________________________________________________\n",
      "up_sampling2d (UpSampling2D)    (None, 14, 14, 1024) 0           conv_pw_13_relu[0][0]            \n",
      "__________________________________________________________________________________________________\n",
      "concatenate (Concatenate)       (None, 14, 14, 1536) 0           up_sampling2d[0][0]              \n",
      "                                                                 conv_pw_11_relu[0][0]            \n",
      "__________________________________________________________________________________________________\n",
      "up_sampling2d_1 (UpSampling2D)  (None, 28, 28, 1536) 0           concatenate[0][0]                \n",
      "__________________________________________________________________________________________________\n",
      "concatenate_1 (Concatenate)     (None, 28, 28, 1792) 0           up_sampling2d_1[0][0]            \n",
      "                                                                 conv_pw_5_relu[0][0]             \n",
      "__________________________________________________________________________________________________\n",
      "up_sampling2d_2 (UpSampling2D)  (None, 56, 56, 1792) 0           concatenate_1[0][0]              \n",
      "__________________________________________________________________________________________________\n",
      "concatenate_2 (Concatenate)     (None, 56, 56, 1920) 0           up_sampling2d_2[0][0]            \n",
      "                                                                 conv_pw_3_relu[0][0]             \n",
      "__________________________________________________________________________________________________\n",
      "up_sampling2d_3 (UpSampling2D)  (None, 112, 112, 192 0           concatenate_2[0][0]              \n",
      "__________________________________________________________________________________________________\n",
      "concatenate_3 (Concatenate)     (None, 112, 112, 198 0           up_sampling2d_3[0][0]            \n",
      "                                                                 conv_pw_1_relu[0][0]             \n",
      "__________________________________________________________________________________________________\n",
      "up_sampling2d_4 (UpSampling2D)  (None, 224, 224, 198 0           concatenate_3[0][0]              \n",
      "__________________________________________________________________________________________________\n",
      "concatenate_4 (Concatenate)     (None, 224, 224, 198 0           up_sampling2d_4[0][0]            \n",
      "                                                                 input_1[0][0]                    \n",
      "__________________________________________________________________________________________________\n",
      "conv2d (Conv2D)                 (None, 224, 224, 1)  1988        concatenate_4[0][0]              \n",
      "__________________________________________________________________________________________________\n",
      "reshape (Reshape)               (None, 224, 224)     0           conv2d[0][0]                     \n",
      "==================================================================================================\n",
      "Total params: 3,230,852\n",
      "Trainable params: 3,208,964\n",
      "Non-trainable params: 21,888\n",
      "__________________________________________________________________________________________________\n"
     ]
    }
   ],
   "source": [
    "# Give trainable=False as argument, if you want to freeze lower layers for fast training (but low accuracy)\n",
    "model = create_model(True)\n",
    "\n",
    "# Print summary\n",
    "model.summary()"
   ]
  },
  {
   "cell_type": "markdown",
   "metadata": {
    "colab_type": "text",
    "id": "2spcE4TvfEZw"
   },
   "source": [
    "### Define dice coefficient function (5 marks)\n",
    "- Create a function to calculate dice coefficient\n"
   ]
  },
  {
   "cell_type": "code",
   "execution_count": 0,
   "metadata": {
    "colab": {},
    "colab_type": "code",
    "id": "8H8aViXZuWz1"
   },
   "outputs": [],
   "source": [
    "import tensorflow as tf\n",
    "from tensorflow.keras.backend import epsilon\n",
    "from tensorflow.keras.utils import Sequence\n",
    "def dice_coefficient(y_true, y_pred):\n",
    "    #### Add your code here ####\n",
    "    numerator = 2 * tf.reduce_sum(y_true * y_pred)\n",
    "    denominator = tf.reduce_sum(y_true + y_pred)\n",
    "    #### Add your code here ####\n",
    "    return numerator / (denominator + tf.keras.backend.epsilon())"
   ]
  },
  {
   "cell_type": "markdown",
   "metadata": {
    "colab_type": "text",
    "id": "Nkp5SDM1fIu2"
   },
   "source": [
    "### Define loss"
   ]
  },
  {
   "cell_type": "code",
   "execution_count": 0,
   "metadata": {
    "colab": {},
    "colab_type": "code",
    "id": "FEOVfs19KVLv"
   },
   "outputs": [],
   "source": [
    "from tensorflow.keras.losses import binary_crossentropy\n",
    "from tensorflow.keras.backend import log\n",
    "def loss(y_true, y_pred):\n",
    "    return binary_crossentropy(y_true, y_pred) - log(dice_coefficient(y_true, y_pred) + epsilon())"
   ]
  },
  {
   "cell_type": "markdown",
   "metadata": {
    "colab_type": "text",
    "id": "Thltv_akfOMS"
   },
   "source": [
    "### Compile the model (5 marks)\n",
    "- Complie the model using below parameters\n",
    "  - loss: use the loss function defined above\n",
    "  - optimizers: use Adam optimizer\n",
    "  - metrics: use dice_coefficient function defined above"
   ]
  },
  {
   "cell_type": "code",
   "execution_count": 0,
   "metadata": {
    "colab": {},
    "colab_type": "code",
    "id": "FJWupeOQFrjg"
   },
   "outputs": [],
   "source": []
  },
  {
   "cell_type": "code",
   "execution_count": 0,
   "metadata": {
    "colab": {},
    "colab_type": "code",
    "id": "atPb8xm2qkK5"
   },
   "outputs": [],
   "source": [
    "#### Add your code here ####\n",
    "from tensorflow.keras.optimizers import Adam\n",
    "\n",
    "optimizer = Adam(lr=1e-4, beta_1=0.9, beta_2=0.999, epsilon=None, decay=0.0, amsgrad=False)\n",
    "model.compile(loss=loss, optimizer=optimizer, metrics=[dice_coefficient])"
   ]
  },
  {
   "cell_type": "markdown",
   "metadata": {
    "colab_type": "text",
    "id": "VTumZyg0fuVy"
   },
   "source": [
    "### Define checkpoint and earlystopping"
   ]
  },
  {
   "cell_type": "code",
   "execution_count": 0,
   "metadata": {
    "colab": {
     "base_uri": "https://localhost:8080/",
     "height": 54
    },
    "colab_type": "code",
    "id": "QNlQHt8DMy7h",
    "outputId": "7484c5ba-8871-4612-dfe6-94e68e021ad5"
   },
   "outputs": [
    {
     "name": "stdout",
     "output_type": "stream",
     "text": [
      "WARNING:tensorflow:`period` argument is deprecated. Please use `save_freq` to specify the frequency in number of samples seen.\n"
     ]
    }
   ],
   "source": [
    "from tensorflow.keras.callbacks import ModelCheckpoint, EarlyStopping, ReduceLROnPlateau\n",
    "checkpoint = ModelCheckpoint(\"model-{loss:.2f}.h5\", monitor=\"loss\", verbose=1, save_best_only=True,\n",
    "                             save_weights_only=True, mode=\"min\", period=1)\n",
    "stop = EarlyStopping(monitor=\"loss\", patience=5, mode=\"min\")\n",
    "reduce_lr = ReduceLROnPlateau(monitor=\"loss\", factor=0.2, patience=5, min_lr=1e-6, verbose=1, mode=\"min\")"
   ]
  },
  {
   "cell_type": "markdown",
   "metadata": {
    "colab_type": "text",
    "id": "LxxbwvXEf07e"
   },
   "source": [
    "### Fit the model (5 marks)\n",
    "- Fit the model using below parameters\n",
    "  - epochs: you can decide\n",
    "  - batch_size: 1\n",
    "  - callbacks: checkpoint, reduce_lr, stop"
   ]
  },
  {
   "cell_type": "code",
   "execution_count": 0,
   "metadata": {
    "colab": {},
    "colab_type": "code",
    "id": "mh32LGyHFrjo"
   },
   "outputs": [],
   "source": []
  },
  {
   "cell_type": "code",
   "execution_count": 0,
   "metadata": {
    "colab": {
     "base_uri": "https://localhost:8080/",
     "height": 1000
    },
    "colab_type": "code",
    "id": "guFfKsEmq58j",
    "outputId": "9055acb4-c710-4386-aca8-21652f8304e5"
   },
   "outputs": [
    {
     "name": "stdout",
     "output_type": "stream",
     "text": [
      "Train on 409 samples\n",
      "Epoch 1/50\n",
      "408/409 [============================>.] - ETA: 0s - loss: 0.8052 - dice_coefficient: 0.6187\n",
      "Epoch 00001: loss improved from inf to 0.80652, saving model to model-0.81.h5\n",
      "409/409 [==============================] - 29s 71ms/sample - loss: 0.8065 - dice_coefficient: 0.6179\n",
      "Epoch 2/50\n",
      "408/409 [============================>.] - ETA: 0s - loss: 0.7059 - dice_coefficient: 0.6459\n",
      "Epoch 00002: loss improved from 0.80652 to 0.70526, saving model to model-0.71.h5\n",
      "409/409 [==============================] - 27s 65ms/sample - loss: 0.7053 - dice_coefficient: 0.6463\n",
      "Epoch 3/50\n",
      "408/409 [============================>.] - ETA: 0s - loss: 0.6772 - dice_coefficient: 0.6552\n",
      "Epoch 00003: loss improved from 0.70526 to 0.67612, saving model to model-0.68.h5\n",
      "409/409 [==============================] - 27s 65ms/sample - loss: 0.6761 - dice_coefficient: 0.6556\n",
      "Epoch 4/50\n",
      "408/409 [============================>.] - ETA: 0s - loss: 0.6564 - dice_coefficient: 0.6626\n",
      "Epoch 00004: loss improved from 0.67612 to 0.65689, saving model to model-0.66.h5\n",
      "409/409 [==============================] - 27s 65ms/sample - loss: 0.6569 - dice_coefficient: 0.6625\n",
      "Epoch 5/50\n",
      "408/409 [============================>.] - ETA: 0s - loss: 0.6428 - dice_coefficient: 0.6671\n",
      "Epoch 00005: loss improved from 0.65689 to 0.64228, saving model to model-0.64.h5\n",
      "409/409 [==============================] - 27s 65ms/sample - loss: 0.6423 - dice_coefficient: 0.6674\n",
      "Epoch 6/50\n",
      "408/409 [============================>.] - ETA: 0s - loss: 0.6306 - dice_coefficient: 0.6718\n",
      "Epoch 00006: loss improved from 0.64228 to 0.63003, saving model to model-0.63.h5\n",
      "409/409 [==============================] - 27s 65ms/sample - loss: 0.6300 - dice_coefficient: 0.6720\n",
      "Epoch 7/50\n",
      "408/409 [============================>.] - ETA: 0s - loss: 0.6191 - dice_coefficient: 0.6762\n",
      "Epoch 00007: loss improved from 0.63003 to 0.61894, saving model to model-0.62.h5\n",
      "409/409 [==============================] - 27s 66ms/sample - loss: 0.6189 - dice_coefficient: 0.6760\n",
      "Epoch 8/50\n",
      "408/409 [============================>.] - ETA: 0s - loss: 0.6088 - dice_coefficient: 0.6800\n",
      "Epoch 00008: loss improved from 0.61894 to 0.60858, saving model to model-0.61.h5\n",
      "409/409 [==============================] - 27s 65ms/sample - loss: 0.6086 - dice_coefficient: 0.6800\n",
      "Epoch 9/50\n",
      "408/409 [============================>.] - ETA: 0s - loss: 0.5609 - dice_coefficient: 0.6857\n",
      "Epoch 00009: loss improved from 0.60858 to 0.59901, saving model to model-0.60.h5\n",
      "409/409 [==============================] - 27s 65ms/sample - loss: 0.5990 - dice_coefficient: 0.6841\n",
      "Epoch 10/50\n",
      "408/409 [============================>.] - ETA: 0s - loss: 0.5904 - dice_coefficient: 0.6876\n",
      "Epoch 00010: loss improved from 0.59901 to 0.58949, saving model to model-0.59.h5\n",
      "409/409 [==============================] - 27s 65ms/sample - loss: 0.5895 - dice_coefficient: 0.6881\n",
      "Epoch 11/50\n",
      "408/409 [============================>.] - ETA: 0s - loss: 0.5810 - dice_coefficient: 0.6916\n",
      "Epoch 00011: loss improved from 0.58949 to 0.58067, saving model to model-0.58.h5\n",
      "409/409 [==============================] - 27s 65ms/sample - loss: 0.5807 - dice_coefficient: 0.6916\n",
      "Epoch 12/50\n",
      "408/409 [============================>.] - ETA: 0s - loss: 0.5723 - dice_coefficient: 0.6953\n",
      "Epoch 00012: loss improved from 0.58067 to 0.57208, saving model to model-0.57.h5\n",
      "409/409 [==============================] - 27s 65ms/sample - loss: 0.5721 - dice_coefficient: 0.6957\n",
      "Epoch 13/50\n",
      "408/409 [============================>.] - ETA: 0s - loss: 0.5635 - dice_coefficient: 0.6997\n",
      "Epoch 00013: loss improved from 0.57208 to 0.56374, saving model to model-0.56.h5\n",
      "409/409 [==============================] - 27s 65ms/sample - loss: 0.5637 - dice_coefficient: 0.6995\n",
      "Epoch 14/50\n",
      "408/409 [============================>.] - ETA: 0s - loss: 0.5567 - dice_coefficient: 0.7030\n",
      "Epoch 00014: loss improved from 0.56374 to 0.55611, saving model to model-0.56.h5\n",
      "409/409 [==============================] - 27s 65ms/sample - loss: 0.5561 - dice_coefficient: 0.7031\n",
      "Epoch 15/50\n",
      "408/409 [============================>.] - ETA: 0s - loss: 0.5477 - dice_coefficient: 0.7068\n",
      "Epoch 00015: loss improved from 0.55611 to 0.54779, saving model to model-0.55.h5\n",
      "409/409 [==============================] - 27s 65ms/sample - loss: 0.5478 - dice_coefficient: 0.7067\n",
      "Epoch 16/50\n",
      "408/409 [============================>.] - ETA: 0s - loss: 0.5410 - dice_coefficient: 0.7105\n",
      "Epoch 00016: loss improved from 0.54779 to 0.54074, saving model to model-0.54.h5\n",
      "409/409 [==============================] - 27s 65ms/sample - loss: 0.5407 - dice_coefficient: 0.7104\n",
      "Epoch 17/50\n",
      "408/409 [============================>.] - ETA: 0s - loss: 0.5328 - dice_coefficient: 0.7139\n",
      "Epoch 00017: loss improved from 0.54074 to 0.53311, saving model to model-0.53.h5\n",
      "409/409 [==============================] - 27s 65ms/sample - loss: 0.5331 - dice_coefficient: 0.7139\n",
      "Epoch 18/50\n",
      "408/409 [============================>.] - ETA: 0s - loss: 0.5253 - dice_coefficient: 0.7173\n",
      "Epoch 00018: loss improved from 0.53311 to 0.52505, saving model to model-0.53.h5\n",
      "409/409 [==============================] - 27s 66ms/sample - loss: 0.5251 - dice_coefficient: 0.7175\n",
      "Epoch 19/50\n",
      "408/409 [============================>.] - ETA: 0s - loss: 0.5163 - dice_coefficient: 0.7222\n",
      "Epoch 00019: loss improved from 0.52505 to 0.51601, saving model to model-0.52.h5\n",
      "409/409 [==============================] - 27s 65ms/sample - loss: 0.5160 - dice_coefficient: 0.7221\n",
      "Epoch 20/50\n",
      "408/409 [============================>.] - ETA: 0s - loss: 0.5084 - dice_coefficient: 0.7258\n",
      "Epoch 00020: loss improved from 0.51601 to 0.50805, saving model to model-0.51.h5\n",
      "409/409 [==============================] - 27s 65ms/sample - loss: 0.5080 - dice_coefficient: 0.7259\n",
      "Epoch 21/50\n",
      "408/409 [============================>.] - ETA: 0s - loss: 0.4994 - dice_coefficient: 0.7306\n",
      "Epoch 00021: loss improved from 0.50805 to 0.49926, saving model to model-0.50.h5\n",
      "409/409 [==============================] - 27s 65ms/sample - loss: 0.4993 - dice_coefficient: 0.7305\n",
      "Epoch 22/50\n",
      "408/409 [============================>.] - ETA: 0s - loss: 0.4923 - dice_coefficient: 0.7341\n",
      "Epoch 00022: loss improved from 0.49926 to 0.49215, saving model to model-0.49.h5\n",
      "409/409 [==============================] - 27s 65ms/sample - loss: 0.4922 - dice_coefficient: 0.7341\n",
      "Epoch 23/50\n",
      "408/409 [============================>.] - ETA: 0s - loss: 0.4839 - dice_coefficient: 0.7383\n",
      "Epoch 00023: loss improved from 0.49215 to 0.48353, saving model to model-0.48.h5\n",
      "409/409 [==============================] - 27s 65ms/sample - loss: 0.4835 - dice_coefficient: 0.7383\n",
      "Epoch 24/50\n",
      "408/409 [============================>.] - ETA: 0s - loss: 0.4766 - dice_coefficient: 0.7421\n",
      "Epoch 00024: loss improved from 0.48353 to 0.47637, saving model to model-0.48.h5\n",
      "409/409 [==============================] - 27s 65ms/sample - loss: 0.4764 - dice_coefficient: 0.7419\n",
      "Epoch 25/50\n",
      "408/409 [============================>.] - ETA: 0s - loss: 0.4696 - dice_coefficient: 0.7452\n",
      "Epoch 00025: loss improved from 0.47637 to 0.46971, saving model to model-0.47.h5\n",
      "409/409 [==============================] - 26s 65ms/sample - loss: 0.4697 - dice_coefficient: 0.7453\n",
      "Epoch 26/50\n",
      "408/409 [============================>.] - ETA: 0s - loss: 0.4625 - dice_coefficient: 0.7493\n",
      "Epoch 00026: loss improved from 0.46971 to 0.46233, saving model to model-0.46.h5\n",
      "409/409 [==============================] - 27s 65ms/sample - loss: 0.4623 - dice_coefficient: 0.7493\n",
      "Epoch 27/50\n",
      "408/409 [============================>.] - ETA: 0s - loss: 0.4566 - dice_coefficient: 0.7523\n",
      "Epoch 00027: loss improved from 0.46233 to 0.45645, saving model to model-0.46.h5\n",
      "409/409 [==============================] - 27s 65ms/sample - loss: 0.4564 - dice_coefficient: 0.7523\n",
      "Epoch 28/50\n",
      "408/409 [============================>.] - ETA: 0s - loss: 0.4500 - dice_coefficient: 0.7555\n",
      "Epoch 00028: loss improved from 0.45645 to 0.44971, saving model to model-0.45.h5\n",
      "409/409 [==============================] - 27s 65ms/sample - loss: 0.4497 - dice_coefficient: 0.7556\n",
      "Epoch 29/50\n",
      "408/409 [============================>.] - ETA: 0s - loss: 0.4444 - dice_coefficient: 0.7584\n",
      "Epoch 00029: loss improved from 0.44971 to 0.44390, saving model to model-0.44.h5\n",
      "409/409 [==============================] - 27s 65ms/sample - loss: 0.4439 - dice_coefficient: 0.7585\n",
      "Epoch 30/50\n",
      "408/409 [============================>.] - ETA: 0s - loss: 0.4382 - dice_coefficient: 0.7618\n",
      "Epoch 00030: loss improved from 0.44390 to 0.43839, saving model to model-0.44.h5\n",
      "409/409 [==============================] - 27s 65ms/sample - loss: 0.4384 - dice_coefficient: 0.7616\n",
      "Epoch 31/50\n",
      "408/409 [============================>.] - ETA: 0s - loss: 0.4326 - dice_coefficient: 0.7642\n",
      "Epoch 00031: loss improved from 0.43839 to 0.43287, saving model to model-0.43.h5\n",
      "409/409 [==============================] - 27s 65ms/sample - loss: 0.4329 - dice_coefficient: 0.7641\n",
      "Epoch 32/50\n",
      "408/409 [============================>.] - ETA: 0s - loss: 0.4269 - dice_coefficient: 0.7673\n",
      "Epoch 00032: loss improved from 0.43287 to 0.42642, saving model to model-0.43.h5\n",
      "409/409 [==============================] - 27s 65ms/sample - loss: 0.4264 - dice_coefficient: 0.7675\n",
      "Epoch 33/50\n",
      "408/409 [============================>.] - ETA: 0s - loss: 0.4205 - dice_coefficient: 0.7708\n",
      "Epoch 00033: loss improved from 0.42642 to 0.42060, saving model to model-0.42.h5\n",
      "409/409 [==============================] - 27s 65ms/sample - loss: 0.4206 - dice_coefficient: 0.7707\n",
      "Epoch 34/50\n",
      "408/409 [============================>.] - ETA: 0s - loss: 0.4162 - dice_coefficient: 0.7730\n",
      "Epoch 00034: loss improved from 0.42060 to 0.41572, saving model to model-0.42.h5\n",
      "409/409 [==============================] - 27s 65ms/sample - loss: 0.4157 - dice_coefficient: 0.7733\n",
      "Epoch 35/50\n",
      "408/409 [============================>.] - ETA: 0s - loss: 0.4112 - dice_coefficient: 0.7757\n",
      "Epoch 00035: loss improved from 0.41572 to 0.41050, saving model to model-0.41.h5\n",
      "409/409 [==============================] - 27s 65ms/sample - loss: 0.4105 - dice_coefficient: 0.7761\n",
      "Epoch 36/50\n",
      "408/409 [============================>.] - ETA: 0s - loss: 0.4049 - dice_coefficient: 0.7790\n",
      "Epoch 00036: loss improved from 0.41050 to 0.40442, saving model to model-0.40.h5\n",
      "409/409 [==============================] - 27s 65ms/sample - loss: 0.4044 - dice_coefficient: 0.7792\n",
      "Epoch 37/50\n",
      "408/409 [============================>.] - ETA: 0s - loss: 0.3998 - dice_coefficient: 0.7818\n",
      "Epoch 00037: loss improved from 0.40442 to 0.39965, saving model to model-0.40.h5\n",
      "409/409 [==============================] - 27s 65ms/sample - loss: 0.3996 - dice_coefficient: 0.7817\n",
      "Epoch 38/50\n",
      "408/409 [============================>.] - ETA: 0s - loss: 0.3956 - dice_coefficient: 0.7839\n",
      "Epoch 00038: loss improved from 0.39965 to 0.39521, saving model to model-0.40.h5\n",
      "409/409 [==============================] - 27s 65ms/sample - loss: 0.3952 - dice_coefficient: 0.7839\n",
      "Epoch 39/50\n",
      "408/409 [============================>.] - ETA: 0s - loss: 0.3902 - dice_coefficient: 0.7866\n",
      "Epoch 00039: loss improved from 0.39521 to 0.39063, saving model to model-0.39.h5\n",
      "409/409 [==============================] - 27s 65ms/sample - loss: 0.3906 - dice_coefficient: 0.7864\n",
      "Epoch 40/50\n",
      "408/409 [============================>.] - ETA: 0s - loss: 0.3858 - dice_coefficient: 0.7890\n",
      "Epoch 00040: loss improved from 0.39063 to 0.38587, saving model to model-0.39.h5\n",
      "409/409 [==============================] - 27s 65ms/sample - loss: 0.3859 - dice_coefficient: 0.7888\n",
      "Epoch 41/50\n",
      "408/409 [============================>.] - ETA: 0s - loss: 0.3825 - dice_coefficient: 0.7908\n",
      "Epoch 00041: loss improved from 0.38587 to 0.38215, saving model to model-0.38.h5\n",
      "409/409 [==============================] - 27s 65ms/sample - loss: 0.3821 - dice_coefficient: 0.7909\n",
      "Epoch 42/50\n",
      "408/409 [============================>.] - ETA: 0s - loss: 0.3781 - dice_coefficient: 0.7932\n",
      "Epoch 00042: loss improved from 0.38215 to 0.37814, saving model to model-0.38.h5\n",
      "409/409 [==============================] - 27s 65ms/sample - loss: 0.3781 - dice_coefficient: 0.7932\n",
      "Epoch 43/50\n",
      "408/409 [============================>.] - ETA: 0s - loss: 0.3736 - dice_coefficient: 0.7955\n",
      "Epoch 00043: loss improved from 0.37814 to 0.37388, saving model to model-0.37.h5\n",
      "409/409 [==============================] - 27s 65ms/sample - loss: 0.3739 - dice_coefficient: 0.7953\n",
      "Epoch 44/50\n",
      "408/409 [============================>.] - ETA: 0s - loss: 0.3708 - dice_coefficient: 0.7971\n",
      "Epoch 00044: loss improved from 0.37388 to 0.37042, saving model to model-0.37.h5\n",
      "409/409 [==============================] - 27s 65ms/sample - loss: 0.3704 - dice_coefficient: 0.7972\n",
      "Epoch 45/50\n",
      "408/409 [============================>.] - ETA: 0s - loss: 0.3668 - dice_coefficient: 0.7992\n",
      "Epoch 00045: loss improved from 0.37042 to 0.36652, saving model to model-0.37.h5\n",
      "409/409 [==============================] - 27s 65ms/sample - loss: 0.3665 - dice_coefficient: 0.7993\n",
      "Epoch 46/50\n",
      "408/409 [============================>.] - ETA: 0s - loss: 0.3624 - dice_coefficient: 0.8015\n",
      "Epoch 00046: loss improved from 0.36652 to 0.36257, saving model to model-0.36.h5\n",
      "409/409 [==============================] - 27s 65ms/sample - loss: 0.3626 - dice_coefficient: 0.8014\n",
      "Epoch 47/50\n",
      "408/409 [============================>.] - ETA: 0s - loss: 0.3593 - dice_coefficient: 0.8029\n",
      "Epoch 00047: loss improved from 0.36257 to 0.35880, saving model to model-0.36.h5\n",
      "409/409 [==============================] - 27s 65ms/sample - loss: 0.3588 - dice_coefficient: 0.8032\n",
      "Epoch 48/50\n",
      "408/409 [============================>.] - ETA: 0s - loss: 0.3554 - dice_coefficient: 0.8052\n",
      "Epoch 00048: loss improved from 0.35880 to 0.35532, saving model to model-0.36.h5\n",
      "409/409 [==============================] - 27s 65ms/sample - loss: 0.3553 - dice_coefficient: 0.8052\n",
      "Epoch 49/50\n",
      "408/409 [============================>.] - ETA: 0s - loss: 0.3527 - dice_coefficient: 0.8065\n",
      "Epoch 00049: loss improved from 0.35532 to 0.35249, saving model to model-0.35.h5\n",
      "409/409 [==============================] - 27s 65ms/sample - loss: 0.3525 - dice_coefficient: 0.8066\n",
      "Epoch 50/50\n",
      "408/409 [============================>.] - ETA: 0s - loss: 0.3498 - dice_coefficient: 0.8083\n",
      "Epoch 00050: loss improved from 0.35249 to 0.35028, saving model to model-0.35.h5\n",
      "409/409 [==============================] - 27s 65ms/sample - loss: 0.3503 - dice_coefficient: 0.8078\n"
     ]
    },
    {
     "data": {
      "text/plain": [
       "<tensorflow.python.keras.callbacks.History at 0x7fcf837509b0>"
      ]
     },
     "execution_count": 23,
     "metadata": {
      "tags": []
     },
     "output_type": "execute_result"
    }
   ],
   "source": [
    "#### Add your code here ####\n",
    "model.fit(x= X_train, y = masks, batch_size = 1, epochs = 50, callbacks=[checkpoint, reduce_lr, stop])"
   ]
  },
  {
   "cell_type": "markdown",
   "metadata": {
    "colab_type": "text",
    "id": "5VtnuzlOf4uL"
   },
   "source": [
    "### Get the predicted mask for a sample image   (5 marks)"
   ]
  },
  {
   "cell_type": "code",
   "execution_count": 0,
   "metadata": {
    "colab": {},
    "colab_type": "code",
    "id": "o-CBCMysrchu"
   },
   "outputs": [],
   "source": [
    "n = 10\n",
    "sample_image = X_train[n]\n",
    "\n",
    "#### Add your code here ####\n",
    "z = np.random.randint(0,10,(224,224,3))\n",
    "sample_image = np.expand_dims(z, axis=0)\n",
    "prediction = model.predict(x=sample_image)"
   ]
  },
  {
   "cell_type": "markdown",
   "metadata": {
    "colab_type": "text",
    "id": "fDIetz0HgA4R"
   },
   "source": [
    "### Impose the mask on the image (5 marks)"
   ]
  },
  {
   "cell_type": "code",
   "execution_count": 0,
   "metadata": {
    "colab": {},
    "colab_type": "code",
    "id": "MTAHGkb5xdzu"
   },
   "outputs": [],
   "source": [
    "#### Add your code here ####\n",
    "prediction_10 = np.squeeze(prediction, axis=0)"
   ]
  },
  {
   "cell_type": "code",
   "execution_count": 0,
   "metadata": {
    "colab": {
     "base_uri": "https://localhost:8080/",
     "height": 507
    },
    "colab_type": "code",
    "id": "67HwYVzh2hdH",
    "outputId": "0f3cf676-0c75-44ad-881e-59d9b0fd0a37"
   },
   "outputs": [
    {
     "name": "stderr",
     "output_type": "stream",
     "text": [
      "Clipping input data to the valid range for imshow with RGB data ([0..1] for floats or [0..255] for integers).\n"
     ]
    },
    {
     "name": "stdout",
     "output_type": "stream",
     "text": [
      "[[[1.49011612e-06 0.00000000e+00 0.00000000e+00 ... 1.78813934e-07\n",
      "   0.00000000e+00 0.00000000e+00]\n",
      "  [4.47034836e-07 0.00000000e+00 0.00000000e+00 ... 0.00000000e+00\n",
      "   0.00000000e+00 0.00000000e+00]\n",
      "  [0.00000000e+00 1.19209290e-07 0.00000000e+00 ... 1.04904175e-05\n",
      "   0.00000000e+00 0.00000000e+00]\n",
      "  ...\n",
      "  [0.00000000e+00 0.00000000e+00 0.00000000e+00 ... 0.00000000e+00\n",
      "   0.00000000e+00 0.00000000e+00]\n",
      "  [0.00000000e+00 0.00000000e+00 0.00000000e+00 ... 0.00000000e+00\n",
      "   0.00000000e+00 0.00000000e+00]\n",
      "  [0.00000000e+00 0.00000000e+00 0.00000000e+00 ... 0.00000000e+00\n",
      "   0.00000000e+00 0.00000000e+00]]]\n"
     ]
    },
    {
     "data": {
      "image/png": "[encoded data removed]",
      "text/plain": [
       "<Figure size 432x288 with 1 Axes>"
      ]
     },
     "metadata": {
      "tags": []
     },
     "output_type": "display_data"
    }
   ],
   "source": [
    "pyplot.imshow(prediction_10)\n",
    "print(prediction)"
   ]
  },
  {
   "cell_type": "markdown",
   "metadata": {
    "colab_type": "text",
    "id": "RgdxzynU98tg"
   },
   "source": [
    "#####On running 50 epochs the models loss has reduced from 0.81 to 0.35 and the dice co-efficient has increased from 0.62 to 0.81.\n",
    "By running more iterations the loss will further reduce and the dice coefficient will increase and the models accuracy will considerably improve.\n",
    "I have printed the result of the model after 50 epochs."
   ]
  }
 ],
 "metadata": {
  "accelerator": "GPU",
  "colab": {
   "collapsed_sections": [],
   "name": "Project_Face detection - Sneha S.ipynb",
   "provenance": [],
   "toc_visible": true
  },
  "kernelspec": {
   "display_name": "Python 3",
   "language": "python",
   "name": "python3"
  },
  "language_info": {
   "codemirror_mode": {
    "name": "ipython",
    "version": 3
   },
   "file_extension": ".py",
   "mimetype": "text/x-python",
   "name": "python",
   "nbconvert_exporter": "python",
   "pygments_lexer": "ipython3",
   "version": "3.7.1"
  }
 },
 "nbformat": 4,
 "nbformat_minor": 1
}
